{
 "cells": [
  {
   "cell_type": "markdown",
   "metadata": {},
   "source": [
    "# Тематическая классификация длинных текстов - TFIDF и LogReg"
   ]
  },
  {
   "cell_type": "code",
   "execution_count": null,
   "metadata": {},
   "outputs": [],
   "source": [
    "# Если Вы запускаете ноутбук на colab или kaggle,\n",
    "# выполните следующие строчки, чтобы подгрузить библиотеку dlnlputils:\n",
    "\n",
    "# !git clone https://github.com/Samsung-IT-Academy/stepik-dl-nlp.git && pip install -r stepik-dl-nlp/requirements.txt\n",
    "# import sys; sys.path.append('./stepik-dl-nlp')"
   ]
  },
  {
   "cell_type": "code",
   "execution_count": 1,
   "metadata": {
    "ExecuteTime": {
     "end_time": "2019-09-12T12:42:57.265628Z",
     "start_time": "2019-09-12T12:42:55.188211Z"
    }
   },
   "outputs": [],
   "source": [
    "import warnings\n",
    "warnings.filterwarnings('ignore')\n",
    "\n",
    "from sklearn.datasets import fetch_20newsgroups\n",
    "from sklearn.metrics import accuracy_score\n",
    "\n",
    "import numpy as np\n",
    "\n",
    "import matplotlib.pyplot as plt\n",
    "%matplotlib inline\n",
    "\n",
    "import collections\n",
    "\n",
    "import torch\n",
    "from torch import nn\n",
    "from torch.nn import functional as F\n",
    "\n",
    "import dlnlputils\n",
    "from dlnlputils.data import tokenize_text_simple_regex, tokenize_corpus, build_vocabulary, \\\n",
    "    vectorize_texts, SparseFeaturesDataset\n",
    "from dlnlputils.pipeline import train_eval_loop, predict_with_model, init_random_seed\n",
    "\n",
    "init_random_seed()"
   ]
  },
  {
   "cell_type": "markdown",
   "metadata": {},
   "source": [
    "## Предобработка текстов и подготовка признаков"
   ]
  },
  {
   "cell_type": "code",
   "execution_count": 2,
   "metadata": {
    "ExecuteTime": {
     "end_time": "2019-09-12T12:42:57.847399Z",
     "start_time": "2019-09-12T12:42:57.268037Z"
    }
   },
   "outputs": [
    {
     "name": "stdout",
     "output_type": "stream",
     "text": [
      "Количество обучающих текстов 11314\n",
      "Количество тестовых текстов 7532\n",
      "\n",
      "From: lerxst@wam.umd.edu (where's my thing)\n",
      "Subject: WHAT car is this!?\n",
      "Nntp-Posting-Host: rac3.wam.umd.edu\n",
      "Organization: University of Maryland, College Park\n",
      "Lines: 15\n",
      "\n",
      " I was wondering if anyone out there could enlighten me on this car I saw\n",
      "the other day. It was a 2-door sports car, looked to be from the late 60s/\n",
      "early 70s. It was called a Bricklin. The doors were really small. In addition,\n",
      "the front bumper was separate from the rest of the body. This is \n",
      "all I know. If anyone can tellme a model name, engine specs, years\n",
      "of production, where this car is made, history, or whatever info you\n",
      "have on this funky looking car, please e-mail.\n",
      "\n",
      "Thanks,\n",
      "- IL\n",
      "   ---- brought to you by your neighborhood Lerxst ----\n",
      "\n",
      "Метка 7\n"
     ]
    }
   ],
   "source": [
    "train_source = fetch_20newsgroups(subset='train')\n",
    "test_source = fetch_20newsgroups(subset='test')\n",
    "\n",
    "print('Количество обучающих текстов', len(train_source['data']))\n",
    "print('Количество тестовых текстов', len(test_source['data']))\n",
    "print()\n",
    "print(train_source['data'][0].strip())\n",
    "\n",
    "print()\n",
    "print('Метка', train_source['target'][0])"
   ]
  },
  {
   "cell_type": "markdown",
   "metadata": {},
   "source": [
    "### Подготовка признаков"
   ]
  },
  {
   "cell_type": "code",
   "execution_count": 3,
   "metadata": {
    "ExecuteTime": {
     "end_time": "2019-09-12T12:43:00.294422Z",
     "start_time": "2019-09-12T12:42:57.849386Z"
    }
   },
   "outputs": [
    {
     "name": "stdout",
     "output_type": "stream",
     "text": [
      "from lerxst where thing subject what this nntp posting host rac3 organization university maryland college park lines wondering anyone there could enlighten this other door sports looked from late early called bricklin doors were really small addition front bumper separate from rest body this know anyone tellme model name engine specs years production where this made history whatever info have this funky looking please mail thanks brought your neighborhood lerxst\n"
     ]
    }
   ],
   "source": [
    "train_tokenized = tokenize_corpus(train_source['data'])\n",
    "test_tokenized = tokenize_corpus(test_source['data'])\n",
    "\n",
    "print(' '.join(train_tokenized[0]))"
   ]
  },
  {
   "cell_type": "code",
   "execution_count": 4,
   "metadata": {
    "ExecuteTime": {
     "end_time": "2019-09-12T12:43:00.825372Z",
     "start_time": "2019-09-12T12:43:00.297392Z"
    }
   },
   "outputs": [
    {
     "name": "stdout",
     "output_type": "stream",
     "text": [
      "Количество уникальных токенов 21628\n",
      "[('that', 0), ('this', 1), ('have', 2), ('with', 3), ('writes', 4), ('article', 5), ('posting', 6), ('host', 7), ('nntp', 8), ('there', 9)]\n"
     ]
    }
   ],
   "source": [
    "MAX_DF = 0.8\n",
    "MIN_COUNT = 5\n",
    "vocabulary, word_doc_freq = build_vocabulary(train_tokenized, max_doc_freq=MAX_DF, min_count=MIN_COUNT)\n",
    "UNIQUE_WORDS_N = len(vocabulary)\n",
    "print('Количество уникальных токенов', UNIQUE_WORDS_N)\n",
    "print(list(vocabulary.items())[:10])"
   ]
  },
  {
   "cell_type": "code",
   "execution_count": 5,
   "metadata": {
    "ExecuteTime": {
     "end_time": "2019-09-12T12:43:01.524600Z",
     "start_time": "2019-09-12T12:43:00.829107Z"
    }
   },
   "outputs": [
    {
     "data": {
      "image/png": "[encoded data removed]",
      "text/plain": [
       "<Figure size 432x288 with 1 Axes>"
      ]
     },
     "metadata": {
      "needs_background": "light"
     },
     "output_type": "display_data"
    }
   ],
   "source": [
    "plt.hist(word_doc_freq, bins=20)\n",
    "plt.title('Распределение относительных частот слов')\n",
    "plt.yscale('log');"
   ]
  },
  {
   "cell_type": "code",
   "execution_count": 6,
   "metadata": {
    "ExecuteTime": {
     "end_time": "2019-09-12T12:44:16.094816Z",
     "start_time": "2019-09-12T12:43:01.526554Z"
    }
   },
   "outputs": [
    {
     "name": "stdout",
     "output_type": "stream",
     "text": [
      "Размерность матрицы признаков обучающей выборки (11314, 21628)\n",
      "Размерность матрицы признаков тестовой выборки (7532, 21628)\n",
      "\n",
      "Количество ненулевых элементов в обучающей выборке 1126792\n",
      "Процент заполненности матрицы признаков 0.46%\n",
      "\n",
      "Количество ненулевых элементов в тестовой выборке 721529\n",
      "Процент заполненности матрицы признаков 0.44%\n"
     ]
    }
   ],
   "source": [
    "VECTORIZATION_MODE = 'tfidf'\n",
    "train_vectors = vectorize_texts(train_tokenized, vocabulary, word_doc_freq, mode=VECTORIZATION_MODE)\n",
    "test_vectors = vectorize_texts(test_tokenized, vocabulary, word_doc_freq, mode=VECTORIZATION_MODE)\n",
    "\n",
    "print('Размерность матрицы признаков обучающей выборки', train_vectors.shape)\n",
    "print('Размерность матрицы признаков тестовой выборки', test_vectors.shape)\n",
    "print()\n",
    "print('Количество ненулевых элементов в обучающей выборке', train_vectors.nnz)\n",
    "print('Процент заполненности матрицы признаков {:.2f}%'.format(train_vectors.nnz * 100 / (train_vectors.shape[0] * train_vectors.shape[1])))\n",
    "print()\n",
    "print('Количество ненулевых элементов в тестовой выборке', test_vectors.nnz)\n",
    "print('Процент заполненности матрицы признаков {:.2f}%'.format(test_vectors.nnz * 100 / (test_vectors.shape[0] * test_vectors.shape[1])))"
   ]
  },
  {
   "cell_type": "code",
   "execution_count": 7,
   "metadata": {
    "ExecuteTime": {
     "end_time": "2019-09-12T12:44:16.857114Z",
     "start_time": "2019-09-12T12:44:16.098773Z"
    }
   },
   "outputs": [
    {
     "data": {
      "image/png": "[encoded data removed]",
      "text/plain": [
       "<Figure size 432x288 with 1 Axes>"
      ]
     },
     "metadata": {
      "needs_background": "light"
     },
     "output_type": "display_data"
    }
   ],
   "source": [
    "plt.hist(train_vectors.data, bins=20)\n",
    "plt.title('Распределение весов признаков')\n",
    "plt.yscale('log');"
   ]
  },
  {
   "cell_type": "markdown",
   "metadata": {},
   "source": [
    "### Распределение классов"
   ]
  },
  {
   "cell_type": "code",
   "execution_count": 8,
   "metadata": {
    "ExecuteTime": {
     "end_time": "2019-09-12T12:44:16.864960Z",
     "start_time": "2019-09-12T12:44:16.859476Z"
    }
   },
   "outputs": [
    {
     "name": "stdout",
     "output_type": "stream",
     "text": [
      "Количество уникальных меток 20\n"
     ]
    }
   ],
   "source": [
    "UNIQUE_LABELS_N = len(set(train_source['target']))\n",
    "print('Количество уникальных меток', UNIQUE_LABELS_N)"
   ]
  },
  {
   "cell_type": "code",
   "execution_count": 9,
   "metadata": {
    "ExecuteTime": {
     "end_time": "2019-09-12T12:44:17.106036Z",
     "start_time": "2019-09-12T12:44:16.867310Z"
    }
   },
   "outputs": [
    {
     "data": {
      "image/png": "[encoded data removed]",
      "text/plain": [
       "<Figure size 432x288 with 1 Axes>"
      ]
     },
     "metadata": {
      "needs_background": "light"
     },
     "output_type": "display_data"
    }
   ],
   "source": [
    "plt.hist(train_source['target'], bins=np.arange(0, 21))\n",
    "plt.title('Распределение меток в обучающей выборке');"
   ]
  },
  {
   "cell_type": "code",
   "execution_count": 10,
   "metadata": {
    "ExecuteTime": {
     "end_time": "2019-09-12T12:44:17.312198Z",
     "start_time": "2019-09-12T12:44:17.109884Z"
    },
    "scrolled": true
   },
   "outputs": [
    {
     "data": {
      "image/png": "[encoded data removed]",
      "text/plain": [
       "<Figure size 432x288 with 1 Axes>"
      ]
     },
     "metadata": {
      "needs_background": "light"
     },
     "output_type": "display_data"
    }
   ],
   "source": [
    "plt.hist(test_source['target'], bins=np.arange(0, 21))\n",
    "plt.title('Распределение меток в тестовой выборке');"
   ]
  },
  {
   "cell_type": "markdown",
   "metadata": {},
   "source": [
    "### PyTorch Dataset"
   ]
  },
  {
   "cell_type": "code",
   "execution_count": 11,
   "metadata": {
    "ExecuteTime": {
     "end_time": "2019-09-12T12:44:17.319292Z",
     "start_time": "2019-09-12T12:44:17.315074Z"
    }
   },
   "outputs": [],
   "source": [
    "train_dataset = SparseFeaturesDataset(train_vectors, train_source['target'])\n",
    "test_dataset = SparseFeaturesDataset(test_vectors, test_source['target'])"
   ]
  },
  {
   "cell_type": "markdown",
   "metadata": {},
   "source": [
    "## Обучение модели на PyTorch"
   ]
  },
  {
   "cell_type": "code",
   "execution_count": 12,
   "metadata": {
    "ExecuteTime": {
     "end_time": "2019-09-12T12:46:22.371272Z",
     "start_time": "2019-09-12T12:44:17.322178Z"
    },
    "scrolled": true
   },
   "outputs": [
    {
     "name": "stdout",
     "output_type": "stream",
     "text": [
      "Эпоха 0\n",
      "Эпоха: 354 итераций, 3.98 сек\n",
      "Среднее значение функции потерь на обучении 2.2252561332142284\n",
      "Среднее значение функции потерь на валидации 2.1137034347501853\n",
      "Новая лучшая модель!\n",
      "\n",
      "Эпоха 1\n",
      "Эпоха: 354 итераций, 1.87 сек\n",
      "Среднее значение функции потерь на обучении 0.9165906374905742\n",
      "Среднее значение функции потерь на валидации 1.6821972778287984\n",
      "Новая лучшая модель!\n",
      "\n",
      "Эпоха 2\n",
      "Эпоха: 354 итераций, 1.88 сек\n",
      "Среднее значение функции потерь на обучении 0.46601709134161134\n",
      "Среднее значение функции потерь на валидации 1.4643919311337552\n",
      "Новая лучшая модель!\n",
      "\n",
      "Эпоха 3\n",
      "Эпоха: 354 итераций, 1.88 сек\n",
      "Среднее значение функции потерь на обучении 0.2836361686557026\n",
      "Среднее значение функции потерь на валидации 1.3450390198978328\n",
      "Новая лучшая модель!\n",
      "\n",
      "Эпоха 4\n",
      "Эпоха: 354 итераций, 1.88 сек\n",
      "Среднее значение функции потерь на обучении 0.19072450440650607\n",
      "Среднее значение функции потерь на валидации 1.2602434024467306\n",
      "Новая лучшая модель!\n",
      "\n",
      "Эпоха 5\n",
      "Эпоха: 354 итераций, 2.04 сек\n",
      "Среднее значение функции потерь на обучении 0.13643477022605763\n",
      "Среднее значение функции потерь на валидации 1.2005377813416012\n",
      "Новая лучшая модель!\n",
      "\n",
      "Эпоха 6\n",
      "Эпоха: 354 итераций, 1.97 сек\n",
      "Среднее значение функции потерь на обучении 0.10175162416982786\n",
      "Среднее значение функции потерь на валидации 1.1543849759687812\n",
      "Новая лучшая модель!\n",
      "\n",
      "Эпоха 7\n",
      "Эпоха: 354 итераций, 1.88 сек\n",
      "Среднее значение функции потерь на обучении 0.07793645451297868\n",
      "Среднее значение функции потерь на валидации 1.1209725131422787\n",
      "Новая лучшая модель!\n",
      "\n",
      "Эпоха 8\n",
      "Эпоха: 354 итераций, 1.89 сек\n",
      "Среднее значение функции потерь на обучении 0.061769785312146455\n",
      "Среднее значение функции потерь на валидации 1.08866912480128\n",
      "Новая лучшая модель!\n",
      "\n",
      "Эпоха 9\n",
      "Эпоха: 354 итераций, 1.88 сек\n",
      "Среднее значение функции потерь на обучении 0.04921773744294536\n",
      "Среднее значение функции потерь на валидации 1.0575792228771468\n",
      "Новая лучшая модель!\n",
      "\n",
      "Эпоха 10\n",
      "Эпоха: 354 итераций, 1.87 сек\n",
      "Среднее значение функции потерь на обучении 0.040086773939767464\n",
      "Среднее значение функции потерь на валидации 1.0522280534950352\n",
      "Новая лучшая модель!\n",
      "\n",
      "Эпоха 11\n",
      "Эпоха: 354 итераций, 1.87 сек\n",
      "Среднее значение функции потерь на обучении 0.03305450282296387\n",
      "Среднее значение функции потерь на валидации 1.0252134996955677\n",
      "Новая лучшая модель!\n",
      "\n",
      "Эпоха 12\n",
      "Эпоха: 354 итераций, 1.97 сек\n",
      "Среднее значение функции потерь на обучении 0.027422093112800416\n",
      "Среднее значение функции потерь на валидации 1.023398267515635\n",
      "Новая лучшая модель!\n",
      "\n",
      "Эпоха 13\n",
      "Эпоха: 354 итераций, 1.89 сек\n",
      "Среднее значение функции потерь на обучении 0.023065802309725245\n",
      "Среднее значение функции потерь на валидации 1.0005426374027284\n",
      "Новая лучшая модель!\n",
      "\n",
      "Эпоха 14\n",
      "Эпоха: 354 итераций, 2.02 сек\n",
      "Среднее значение функции потерь на обучении 0.019530132706250765\n",
      "Среднее значение функции потерь на валидации 0.9915619017714161\n",
      "Новая лучшая модель!\n",
      "\n",
      "Эпоха 15\n",
      "Эпоха: 354 итераций, 2.04 сек\n",
      "Среднее значение функции потерь на обучении 0.016497752070163855\n",
      "Среднее значение функции потерь на валидации 0.9758775720404367\n",
      "Новая лучшая модель!\n",
      "\n",
      "Эпоха 16\n",
      "Эпоха: 354 итераций, 1.95 сек\n",
      "Среднее значение функции потерь на обучении 0.013959740056382692\n",
      "Среднее значение функции потерь на валидации 0.9762130887326548\n",
      "\n",
      "Эпоха 17\n",
      "Эпоха: 354 итераций, 1.89 сек\n",
      "Среднее значение функции потерь на обучении 0.012367761268025254\n",
      "Среднее значение функции потерь на валидации 0.9614309058603594\n",
      "Новая лучшая модель!\n",
      "\n",
      "Эпоха 18\n",
      "Эпоха: 354 итераций, 1.90 сек\n",
      "Среднее значение функции потерь на обучении 0.01055142342502325\n",
      "Среднее значение функции потерь на валидации 0.953693678444725\n",
      "Новая лучшая модель!\n",
      "\n",
      "Эпоха 19\n",
      "Эпоха: 354 итераций, 1.88 сек\n",
      "Среднее значение функции потерь на обучении 0.009276752999462819\n",
      "Среднее значение функции потерь на валидации 0.9553874814409321\n",
      "\n",
      "Эпоха 20\n",
      "Эпоха: 354 итераций, 1.92 сек\n",
      "Среднее значение функции потерь на обучении 0.008060230175033212\n",
      "Среднее значение функции потерь на валидации 0.9670811693294573\n",
      "\n",
      "Эпоха 21\n",
      "Эпоха: 354 итераций, 1.89 сек\n",
      "Среднее значение функции потерь на обучении 0.007328642369445287\n",
      "Среднее значение функции потерь на валидации 0.9403599519598282\n",
      "Новая лучшая модель!\n",
      "\n",
      "Эпоха 22\n",
      "Эпоха: 354 итераций, 1.88 сек\n",
      "Среднее значение функции потерь на обучении 0.0067727453181241236\n",
      "Среднее значение функции потерь на валидации 0.9329076677055682\n",
      "Новая лучшая модель!\n",
      "\n",
      "Эпоха 23\n",
      "Эпоха: 354 итераций, 1.89 сек\n",
      "Среднее значение функции потерь на обучении 0.005589822709749816\n",
      "Среднее значение функции потерь на валидации 0.9329818083068072\n",
      "\n",
      "Эпоха 24\n",
      "Эпоха: 354 итераций, 1.90 сек\n",
      "Среднее значение функции потерь на обучении 0.0052566175151084905\n",
      "Среднее значение функции потерь на валидации 0.9690113091620348\n",
      "\n",
      "Эпоха 25\n",
      "Эпоха: 354 итераций, 1.89 сек\n",
      "Среднее значение функции потерь на обучении 0.004769208521376979\n",
      "Среднее значение функции потерь на валидации 0.9437598410551831\n",
      "\n",
      "Эпоха 26\n",
      "Эпоха: 354 итераций, 1.91 сек\n",
      "Среднее значение функции потерь на обучении 0.004408721141694745\n",
      "Среднее значение функции потерь на валидации 0.9343397314265623\n",
      "\n",
      "Эпоха 27\n",
      "Эпоха: 354 итераций, 1.97 сек\n",
      "Среднее значение функции потерь на обучении 0.0041215620674508605\n",
      "Среднее значение функции потерь на валидации 0.9609659795286292\n",
      "\n",
      "Эпоха 28\n",
      "Эпоха: 354 итераций, 1.91 сек\n",
      "Среднее значение функции потерь на обучении 0.004164914304251114\n",
      "Среднее значение функции потерь на валидации 0.9498732259212914\n",
      "Epoch    29: reducing learning rate of group 0 to 5.0000e-02.\n",
      "\n",
      "Эпоха 29\n",
      "Эпоха: 354 итераций, 2.16 сек\n",
      "Среднее значение функции потерь на обучении 0.003232052554323806\n",
      "Среднее значение функции потерь на валидации 0.9344278268389783\n",
      "\n",
      "Эпоха 30\n",
      "Эпоха: 354 итераций, 2.16 сек\n",
      "Среднее значение функции потерь на обучении 0.0029576774913486156\n",
      "Среднее значение функции потерь на валидации 0.9425018006714724\n",
      "\n",
      "Эпоха 31\n",
      "Эпоха: 354 итераций, 2.17 сек\n",
      "Среднее значение функции потерь на обучении 0.0028751858968503437\n",
      "Среднее значение функции потерь на валидации 0.9348612725734711\n",
      "\n",
      "Эпоха 32\n",
      "Эпоха: 354 итераций, 2.16 сек\n",
      "Среднее значение функции потерь на обучении 0.00260181244392682\n",
      "Среднее значение функции потерь на валидации 0.9306307121858759\n",
      "Новая лучшая модель!\n",
      "\n",
      "Эпоха 33\n",
      "Эпоха: 354 итераций, 2.16 сек\n",
      "Среднее значение функции потерь на обучении 0.0027132539670042285\n",
      "Среднее значение функции потерь на валидации 0.9447260894260164\n",
      "\n",
      "Эпоха 34\n",
      "Эпоха: 354 итераций, 2.20 сек\n",
      "Среднее значение функции потерь на обучении 0.0025347618223858556\n",
      "Среднее значение функции потерь на валидации 0.9425586559257265\n",
      "\n",
      "Эпоха 35\n",
      "Эпоха: 354 итераций, 2.14 сек\n",
      "Среднее значение функции потерь на обучении 0.0026106546639687103\n",
      "Среднее значение функции потерь на валидации 0.9399356877399703\n",
      "\n",
      "Эпоха 36\n",
      "Эпоха: 354 итераций, 2.15 сек\n",
      "Среднее значение функции потерь на обучении 0.0024109346303996092\n",
      "Среднее значение функции потерь на валидации 0.9386629239987518\n",
      "\n",
      "Эпоха 37\n",
      "Эпоха: 354 итераций, 2.16 сек\n",
      "Среднее значение функции потерь на обучении 0.002353831356179856\n",
      "Среднее значение функции потерь на валидации 0.9419023860561646\n",
      "\n",
      "Эпоха 38\n",
      "Эпоха: 354 итераций, 2.14 сек\n",
      "Среднее значение функции потерь на обучении 0.002311130054377277\n",
      "Среднее значение функции потерь на валидации 0.9422719795572556\n",
      "Epoch    39: reducing learning rate of group 0 to 2.5000e-02.\n",
      "\n",
      "Эпоха 39\n",
      "Эпоха: 354 итераций, 2.17 сек\n",
      "Среднее значение функции потерь на обучении 0.0019421925589686922\n",
      "Среднее значение функции потерь на валидации 0.9435706326769571\n",
      "\n",
      "Эпоха 40\n",
      "Эпоха: 354 итераций, 2.14 сек\n",
      "Среднее значение функции потерь на обучении 0.0018815748949468105\n",
      "Среднее значение функции потерь на валидации 0.9396225687558368\n",
      "\n",
      "Эпоха 41\n",
      "Эпоха: 354 итераций, 2.23 сек\n",
      "Среднее значение функции потерь на обучении 0.0018609701017000696\n",
      "Среднее значение функции потерь на валидации 0.944635855318126\n",
      "\n",
      "Эпоха 42\n",
      "Эпоха: 354 итераций, 2.36 сек\n",
      "Среднее значение функции потерь на обучении 0.0018222704212415416\n",
      "Среднее значение функции потерь на валидации 0.9422202383057546\n",
      "\n",
      "Эпоха 43\n",
      "Эпоха: 354 итераций, 2.37 сек\n",
      "Среднее значение функции потерь на обучении 0.0017887879689444399\n",
      "Среднее значение функции потерь на валидации 0.9431647028205759\n",
      "Модель не улучшилась за последние 10 эпох, прекращаем обучение\n"
     ]
    }
   ],
   "source": [
    "model = nn.Linear(UNIQUE_WORDS_N, UNIQUE_LABELS_N)\n",
    "\n",
    "scheduler = lambda optim: \\\n",
    "    torch.optim.lr_scheduler.ReduceLROnPlateau(optim, patience=5, factor=0.5, verbose=True)\n",
    "\n",
    "best_val_loss, best_model = train_eval_loop(model=model,\n",
    "                                            train_dataset=train_dataset,\n",
    "                                            val_dataset=test_dataset,\n",
    "                                            criterion=F.cross_entropy,\n",
    "                                            lr=1e-1,\n",
    "                                            epoch_n=200,\n",
    "                                            batch_size=32,\n",
    "                                            l2_reg_alpha=0,\n",
    "                                            lr_scheduler_ctor=scheduler)"
   ]
  },
  {
   "cell_type": "markdown",
   "metadata": {},
   "source": [
    "## Оценка качества"
   ]
  },
  {
   "cell_type": "code",
   "execution_count": 13,
   "metadata": {
    "ExecuteTime": {
     "end_time": "2019-09-12T12:46:25.105663Z",
     "start_time": "2019-09-12T12:46:22.373012Z"
    }
   },
   "outputs": [
    {
     "name": "stderr",
     "output_type": "stream",
     "text": [
      "100%|██████████████████████████████████████████████████████████████████████████| 354/353.5625 [00:01<00:00, 221.34it/s]\n"
     ]
    },
    {
     "name": "stdout",
     "output_type": "stream",
     "text": [
      "Среднее значение функции потерь на обучении 0.0022322239819914103\n",
      "Доля верных ответов 0.9994696835778681\n",
      "\n"
     ]
    },
    {
     "name": "stderr",
     "output_type": "stream",
     "text": [
      "236it [00:01, 221.80it/s]                                                                                              "
     ]
    },
    {
     "name": "stdout",
     "output_type": "stream",
     "text": [
      "Среднее значение функции потерь на валидации 0.9289429783821106\n",
      "Доля верных ответов 0.76805629314923\n"
     ]
    },
    {
     "name": "stderr",
     "output_type": "stream",
     "text": [
      "\n"
     ]
    }
   ],
   "source": [
    "train_pred = predict_with_model(best_model, train_dataset)\n",
    "\n",
    "train_loss = F.cross_entropy(torch.from_numpy(train_pred),\n",
    "                             torch.from_numpy(train_source['target']).long())\n",
    "\n",
    "print('Среднее значение функции потерь на обучении', float(train_loss))\n",
    "print('Доля верных ответов', accuracy_score(train_source['target'], train_pred.argmax(-1)))\n",
    "print()\n",
    "\n",
    "\n",
    "\n",
    "test_pred = predict_with_model(best_model, test_dataset)\n",
    "\n",
    "test_loss = F.cross_entropy(torch.from_numpy(test_pred),\n",
    "                            torch.from_numpy(test_source['target']).long())\n",
    "\n",
    "print('Среднее значение функции потерь на валидации', float(test_loss))\n",
    "print('Доля верных ответов', accuracy_score(test_source['target'], test_pred.argmax(-1)))"
   ]
  },
  {
   "cell_type": "markdown",
   "metadata": {},
   "source": [
    "# Альтернативная реализация на scikit-learn"
   ]
  },
  {
   "cell_type": "code",
   "execution_count": 15,
   "metadata": {
    "ExecuteTime": {
     "end_time": "2019-09-12T12:46:31.791405Z",
     "start_time": "2019-09-12T12:46:25.107897Z"
    },
    "scrolled": false
   },
   "outputs": [],
   "source": [
    "from sklearn.feature_extraction.text import TfidfVectorizer\n",
    "from sklearn.pipeline import Pipeline\n",
    "from sklearn.linear_model import LogisticRegression\n",
    "\n",
    "sklearn_pipeline = Pipeline((('vect', TfidfVectorizer(tokenizer=tokenize_text_simple_regex,\n",
    "                                                      max_df=MAX_DF,\n",
    "                                                      min_df=MIN_COUNT)),\n",
    "                             ('cls', LogisticRegression())))\n",
    "sklearn_pipeline.fit(train_source['data'], train_source['target']);"
   ]
  },
  {
   "cell_type": "markdown",
   "metadata": {},
   "source": [
    "## Оценка качества"
   ]
  },
  {
   "cell_type": "code",
   "execution_count": 24,
   "metadata": {
    "ExecuteTime": {
     "end_time": "2019-09-12T12:46:35.454567Z",
     "start_time": "2019-09-12T12:46:31.792832Z"
    }
   },
   "outputs": [
    {
     "name": "stdout",
     "output_type": "stream",
     "text": [
      "Среднее значение функции потерь на обучении 2.4954788918552406\n",
      "Доля верных ответов 0.9716280714159449\n",
      "\n",
      "Среднее значение функции потерь на валидации 2.6539022582314655\n",
      "Доля верных ответов 0.8190387679235263\n"
     ]
    }
   ],
   "source": [
    "sklearn_train_pred = sklearn_pipeline.predict_proba(train_source['data'])\n",
    "sklearn_train_loss = F.cross_entropy(torch.from_numpy(sklearn_train_pred),\n",
    "                                                 torch.from_numpy(train_source['target']).long())\n",
    "print('Среднее значение функции потерь на обучении', float(sklearn_train_loss))\n",
    "print('Доля верных ответов', accuracy_score(train_source['target'], sklearn_train_pred.argmax(-1)))\n",
    "print()\n",
    "\n",
    "sklearn_test_pred = sklearn_pipeline.predict_proba(test_source['data'])\n",
    "sklearn_test_loss = F.cross_entropy(torch.from_numpy(sklearn_test_pred),\n",
    "                                                torch.from_numpy(test_source['target']).long())\n",
    "print('Среднее значение функции потерь на валидации', float(sklearn_test_loss))\n",
    "print('Доля верных ответов', accuracy_score(test_source['target'], sklearn_test_pred.argmax(-1)))"
   ]
  },
  {
   "cell_type": "markdown",
   "metadata": {},
   "source": [
    "# Bigram PMI"
   ]
  },
  {
   "cell_type": "code",
   "execution_count": 1,
   "metadata": {},
   "outputs": [],
   "source": [
    "import re\n",
    "from collections import defaultdict\n",
    "from random import sample, shuffle\n",
    "\n",
    "import numpy as np\n",
    "from tqdm import tqdm\n",
    "\n",
    "from nltk.corpus import stopwords as nltk_stopwords\n",
    "from nltk.collocations import BigramCollocationFinder, BigramAssocMeasures\n",
    "\n",
    "from sklearn.datasets import fetch_20newsgroups\n",
    "from sklearn.metrics import accuracy_score\n",
    "\n",
    "import scipy.sparse\n",
    "\n",
    "import torch\n",
    "from torch import nn\n",
    "import torch.nn.functional as F\n",
    "from torch.optim import Adam\n",
    "from torch.utils.data import Dataset, DataLoader"
   ]
  },
  {
   "cell_type": "code",
   "execution_count": 2,
   "metadata": {},
   "outputs": [],
   "source": [
    "en_stopwords = set(nltk_stopwords.words('english'))\n",
    "TOKEN_REGEX = re.compile(r'[\\w\\d]+')"
   ]
  },
  {
   "cell_type": "code",
   "execution_count": 3,
   "metadata": {},
   "outputs": [
    {
     "name": "stdout",
     "output_type": "stream",
     "text": [
      "Train dataset size: 11314\n",
      "Test dataset size: 7532\n",
      "\n",
      "Text sample:\n",
      "\n",
      "From: lerxst@wam.umd.edu (where's my thing)\n",
      "Subject: WHAT car is this!?\n",
      "Nntp-Posting-Host: rac3.wam.umd.edu\n",
      "Organization: University of Maryland, College Park\n",
      "Lines: 15\n",
      "\n",
      " I was wondering if anyone out there could enlighten me on this car I saw\n",
      "the other day. It was a 2-door sports car, looked to be from the late 60s/\n",
      "early 70s. It was called a Bricklin. The doors were really small. In addition,\n",
      "the front bumper was separate from the rest of the body. This is \n",
      "all I know. If anyone can tellme a model name, engine specs, years\n",
      "of production, where this car is made, history, or whatever info you\n",
      "have on this funky looking car, please e-mail.\n",
      "\n",
      "Thanks,\n",
      "- IL\n",
      "   ---- brought to you by your neighborhood Lerxst ----\n",
      "\n",
      "Text label: 7\n"
     ]
    }
   ],
   "source": [
    "train_source = fetch_20newsgroups(subset='train')\n",
    "test_source = fetch_20newsgroups(subset='test')\n",
    "\n",
    "print('Train dataset size:', len(train_source['data']))\n",
    "print('Test dataset size:', len(test_source['data']))\n",
    "print()\n",
    "print('Text sample:\\n')\n",
    "print(train_source['data'][0].strip())\n",
    "\n",
    "print()\n",
    "print('Text label:', train_source['target'][0])"
   ]
  },
  {
   "cell_type": "code",
   "execution_count": 4,
   "metadata": {},
   "outputs": [],
   "source": [
    "class Tokenizer:\n",
    "    def __init__(self, args=None,\n",
    "                 tokenizing_pattern=TOKEN_REGEX, min_token_len=3, stopwords=en_stopwords):\n",
    "        if args is not None:\n",
    "            self.args = vars(args)\n",
    "        else:\n",
    "            self.args = dict(tokenizing_pattern=tokenizing_pattern,\n",
    "                            min_token_len=min_token_len,\n",
    "                            stopwords=stopwords)\n",
    "            \n",
    "    def tokenize(self, _text):\n",
    "        _text = _text.lower()\n",
    "        unfiltered_tokens = self.args['tokenizing_pattern'].findall(_text)\n",
    "        return [token for token in unfiltered_tokens if len(token) >= self.args['min_token_len']\n",
    "               and token not in self.args['stopwords']]"
   ]
  },
  {
   "cell_type": "code",
   "execution_count": 5,
   "metadata": {},
   "outputs": [],
   "source": [
    "basic_tokenizer = Tokenizer()"
   ]
  },
  {
   "cell_type": "code",
   "execution_count": 6,
   "metadata": {},
   "outputs": [],
   "source": [
    "class SparseFeatureDataset(Dataset):\n",
    "    def __init__(self, _features, _targets):\n",
    "        self.features = _features\n",
    "        self.targets = _targets\n",
    "\n",
    "    def __len__(self):\n",
    "        return self.features.shape[0]\n",
    "\n",
    "    def __getitem__(self, idx):\n",
    "        _features = torch.from_numpy(self.features[idx].toarray()[0]).float()\n",
    "        _label = torch.from_numpy(np.asarray(self.targets[idx])).long()\n",
    "        return (_features, _label)"
   ]
  },
  {
   "cell_type": "code",
   "execution_count": 7,
   "metadata": {},
   "outputs": [],
   "source": [
    "class NewsTextDataset:\n",
    "    def __init__(self,\n",
    "                 train_set=train_source,\n",
    "                 test_set=test_source,\n",
    "                 tokenizer=basic_tokenizer,\n",
    "                 batch_size=64):\n",
    "        # Forming the vocabulary\n",
    "        self.tokenizer = tokenizer\n",
    "        self.bigram_vocab, self.bigram_pmi = self.build_bigram_vocab(train_set['data'])\n",
    "        self.bigram_vocab_size = len(self.bigram_vocab)\n",
    "        self.bigram_vocab = list(self.bigram_vocab)\n",
    "        self.bigram2id = {bigram: _id for _id, bigram in enumerate(self.bigram_vocab)}\n",
    "        self.id2bigram = {_id: bigram for _id, bigram in enumerate(self.bigram_vocab)}\n",
    "        self.bigram_vocab = set(self.bigram_vocab)\n",
    "        \n",
    "        # Vectorizing the data and building the loader\n",
    "        kwargs = self.make_kwargs()\n",
    "        self.train_features = self.vectorize_data(train_set['data'])\n",
    "        self.train_targets = train_set['target']\n",
    "        train_set = SparseFeatureDataset(self.train_features, self.train_targets)\n",
    "        self.train_loader = DataLoader(train_set, batch_size=batch_size,\n",
    "                                       drop_last=True, shuffle=True, **kwargs)\n",
    "        self.val_features = self.vectorize_data(test_set['data'])\n",
    "        self.val_targets = test_set['target']\n",
    "        val_set = SparseFeatureDataset(self.val_features, self.val_targets)\n",
    "        self.val_loader = DataLoader(val_set, batch_size=batch_size,\n",
    "                                     drop_last=False, shuffle=False, **kwargs)\n",
    "    \n",
    "    def build_bigram_vocab(self, corpus, max_size=10000):\n",
    "        # Getting the whole corpus token sequence\n",
    "        corpus_tokens = []\n",
    "        for _text in corpus:\n",
    "            corpus_tokens += self.tokenizer.tokenize(_text)\n",
    "        \n",
    "        # Estimating the bigrams\n",
    "        bigram_finder = BigramCollocationFinder.from_words(corpus_tokens)\n",
    "        bgm = BigramAssocMeasures()\n",
    "        score = bgm.mi_like\n",
    "        collocations = {'_'.join(bigram): pmi for bigram, pmi in \n",
    "                        bigram_finder.score_ngrams(score)}\n",
    "        sorted_pmi = sorted(collocations.items(), reverse=True,\n",
    "                           key=lambda _: _[1])[:min(len(collocations), max_size)]\n",
    "        collocations = {_key: _value for (_key, _value) in sorted_pmi}\n",
    "        bigram_set = set(collocations.keys())\n",
    "        \n",
    "        return bigram_set, collocations\n",
    "    \n",
    "    def vectorize_data(self, input_data, scale=True, eps=1e-6):\n",
    "        tokenized_data = [self.tokenizer.tokenize(_text) for _text in input_data]\n",
    "        sparse_data = scipy.sparse.dok_matrix((len(tokenized_data), self.bigram_vocab_size),\n",
    "                                              dtype='float32')\n",
    "        \n",
    "        for text_idx, _text in enumerate(tokenized_data):\n",
    "            for token_pos in range(len(_text) - 1):\n",
    "                bigram = _text[token_pos] + '_' + _text[token_pos + 1]\n",
    "                if bigram in self.bigram_vocab:\n",
    "                    sparse_data[text_idx, self.bigram2id[bigram]] += 1\n",
    "                    \n",
    "        if scale:\n",
    "            sparse_data = sparse_data.tocsc()\n",
    "            sparse_data -= sparse_data.min()\n",
    "            sparse_data /= (sparse_data.max() + eps)\n",
    "            \n",
    "        return sparse_data.tocsr()\n",
    "    \n",
    "    @staticmethod\n",
    "    def make_kwargs():\n",
    "        # TODO deal with pin_memory for custom datasets\n",
    "        use_cuda = False # torch.cuda.is_available()\n",
    "        kwargs = {'num_workers': 1, 'pin_memory': True} if use_cuda else {}\n",
    "        return kwargs"
   ]
  },
  {
   "cell_type": "code",
   "execution_count": 8,
   "metadata": {},
   "outputs": [],
   "source": [
    "class NewsClassifierModel(nn.Module):\n",
    "    def __init__(self, emb_dim, num_labels, dropout_rate=0.2, norm_eps=1e-12):\n",
    "        super(NewsClassifierModel, self).__init__()\n",
    "        self.classifier = nn.Sequential(\n",
    "            nn.Linear(emb_dim, emb_dim),\n",
    "            nn.LayerNorm(emb_dim, eps=norm_eps),\n",
    "            nn.Dropout(p=dropout_rate),\n",
    "            nn.Linear(emb_dim, num_labels)\n",
    "        )\n",
    "\n",
    "    def forward(self, _input):\n",
    "        prediction = self.classifier(_input)\n",
    "        return prediction"
   ]
  },
  {
   "cell_type": "code",
   "execution_count": 9,
   "metadata": {},
   "outputs": [],
   "source": [
    "class NewsClassifier:\n",
    "    def __init__(self):\n",
    "        self.dataset = NewsTextDataset()\n",
    "        self.classifier = NewsClassifierModel(self.dataset.bigram_vocab_size,\n",
    "                                        len(set(self.dataset.train_targets)))\n",
    "        self.optimizer = Adam(self.classifier.parameters(), lr=0.001)\n",
    "        self.criterion = F.cross_entropy\n",
    "        self.device = torch.device(\"cuda\" if torch.cuda.is_available() else \"cpu\")\n",
    "        \n",
    "        print(\"Classification meta\")\n",
    "        print(\"~~~~~~~~~~~~~~~~~~~~~~~~~~~~~~~~~~\")\n",
    "        print(\"Training set size:\", self.dataset.train_targets.shape[0])\n",
    "        print(\"Validation set size:\", self.dataset.val_targets.shape[0])\n",
    "        print(\"Number of unique labels:\", len(set(self.dataset.train_targets)))\n",
    "        print(\"Initial embedding dimension:\", self.dataset.bigram_vocab_size)\n",
    "        print(\"Used device:\", self.device.type)\n",
    "        print(\"~~~~~~~~~~~~~~~~~~~~~~~~~~~~~~~~~~\\n\")\n",
    "        \n",
    "    def train(self, epoch_num, log_interval=10):\n",
    "        self.classifier.to(self.device)\n",
    "        self.classifier.train()\n",
    "        \n",
    "        for epoch in range(epoch_num):\n",
    "            epoch_loss = []\n",
    "            \n",
    "            for batch, (_input, _target) in enumerate(self.dataset.train_loader):\n",
    "                _input, _target = _input.to(self.device), _target.to(self.device)\n",
    "                \n",
    "                predicted = self.classifier(_input)\n",
    "                loss = self.criterion(predicted, _target)\n",
    "                \n",
    "                loss.backward()\n",
    "                self.optimizer.step()\n",
    "                self.optimizer.zero_grad()\n",
    "                \n",
    "                epoch_loss.append(loss.cpu().data.numpy())\n",
    "                \n",
    "            if (epoch + 1) % log_interval == 0 or epoch == 0:\n",
    "                mean_epoch_loss = sum(epoch_loss) / len(epoch_loss)\n",
    "                _accuracy = self.evaluate()\n",
    "                print(\"Epoch #{epoch_num}\\nMean epoch loss: {mean_loss}\".format(\n",
    "                    epoch_num=epoch + 1, mean_loss=mean_epoch_loss))\n",
    "                print(\"Accuracy on validation:\", _accuracy)\n",
    "                print()\n",
    "                \n",
    "    def evaluate(self):\n",
    "        self.classifier.to(self.device)\n",
    "        self.classifier.eval()\n",
    "        predictions, targets = [], []\n",
    "        \n",
    "        with torch.no_grad():\n",
    "            for _input, _target in self.dataset.val_loader:\n",
    "                _input = _input.to(self.device)\n",
    "                predicted = self.classifier(_input)\n",
    "                predicted = torch.argmax(predicted, dim=-1)\n",
    "                predictions.append(predicted.detach().cpu().numpy())\n",
    "                targets.append(_target.cpu().numpy())\n",
    "                \n",
    "        predictions = np.concatenate(predictions, 0)\n",
    "        targets = np.concatenate(targets, 0)\n",
    "        _accuracy = accuracy_score(targets, predictions)\n",
    "        \n",
    "        return _accuracy"
   ]
  },
  {
   "cell_type": "code",
   "execution_count": 10,
   "metadata": {},
   "outputs": [
    {
     "name": "stdout",
     "output_type": "stream",
     "text": [
      "Classification meta\n",
      "~~~~~~~~~~~~~~~~~~~~~~~~~~~~~~~~~~\n",
      "Training set size: 11314\n",
      "Validation set size: 7532\n",
      "Number of unique labels: 20\n",
      "Initial embedding dimension: 10000\n",
      "Used device: cuda\n",
      "~~~~~~~~~~~~~~~~~~~~~~~~~~~~~~~~~~\n",
      "\n",
      "Epoch #1\n",
      "Mean epoch loss: 4.688570825891062\n",
      "Accuracy on validation: 0.5003983005841742\n",
      "\n",
      "Epoch #100\n",
      "Mean epoch loss: 0.359164822042327\n",
      "Accuracy on validation: 0.5509824747742963\n",
      "\n",
      "Epoch #200\n",
      "Mean epoch loss: 0.3122604482553222\n",
      "Accuracy on validation: 0.5424853956452469\n",
      "\n",
      "Epoch #300\n",
      "Mean epoch loss: 0.2936477226903662\n",
      "Accuracy on validation: 0.5374402549123739\n",
      "\n",
      "Epoch #400\n",
      "Mean epoch loss: 0.27776475496251474\n",
      "Accuracy on validation: 0.533457249070632\n",
      "\n",
      "Epoch #500\n",
      "Mean epoch loss: 0.2669748011553152\n",
      "Accuracy on validation: 0.5302708443972385\n",
      "\n",
      "Epoch #600\n",
      "Mean epoch loss: 0.2622048215813596\n",
      "Accuracy on validation: 0.5268189060010622\n",
      "\n",
      "Epoch #700\n",
      "Mean epoch loss: 0.2607306694527241\n",
      "Accuracy on validation: 0.5288104089219331\n",
      "\n",
      "Epoch #800\n",
      "Mean epoch loss: 0.2601091391089457\n",
      "Accuracy on validation: 0.5246946362187997\n",
      "\n",
      "Epoch #900\n",
      "Mean epoch loss: 0.2539683731950142\n",
      "Accuracy on validation: 0.5228359001593202\n",
      "\n",
      "Epoch #1000\n",
      "Mean epoch loss: 0.24669262739321726\n",
      "Accuracy on validation: 0.5209771640998406\n",
      "\n"
     ]
    }
   ],
   "source": [
    "classifier = NewsClassifier()\n",
    "classifier.train(1000, log_interval=100)"
   ]
  },
  {
   "cell_type": "code",
   "execution_count": null,
   "metadata": {},
   "outputs": [],
   "source": []
  }
 ],
 "metadata": {
  "kernelspec": {
   "display_name": "samsung_nlp",
   "language": "python",
   "name": "samsung_nlp"
  },
  "language_info": {
   "codemirror_mode": {
    "name": "ipython",
    "version": 3
   },
   "file_extension": ".py",
   "mimetype": "text/x-python",
   "name": "python",
   "nbconvert_exporter": "python",
   "pygments_lexer": "ipython3",
   "version": "3.8.5"
  },
  "latex_envs": {
   "LaTeX_envs_menu_present": true,
   "autoclose": false,
   "autocomplete": true,
   "bibliofile": "biblio.bib",
   "cite_by": "apalike",
   "current_citInitial": 1,
   "eqLabelWithNumbers": true,
   "eqNumInitial": 1,
   "hotkeys": {
    "equation": "Ctrl-E",
    "itemize": "Ctrl-I"
   },
   "labels_anchors": false,
   "latex_user_defs": false,
   "report_style_numbering": false,
   "user_envs_cfg": false
  },
  "toc": {
   "base_numbering": 1,
   "nav_menu": {},
   "number_sections": true,
   "sideBar": true,
   "skip_h1_title": false,
   "title_cell": "Table of Contents",
   "title_sidebar": "Contents",
   "toc_cell": false,
   "toc_position": {},
   "toc_section_display": true,
   "toc_window_display": true
  }
 },
 "nbformat": 4,
 "nbformat_minor": 2
}
