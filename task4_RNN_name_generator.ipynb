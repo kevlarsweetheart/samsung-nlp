{
 "cells": [
  {
   "cell_type": "markdown",
   "metadata": {},
   "source": [
    "# Генерация текста с помощью RNN\n"
   ]
  },
  {
   "cell_type": "markdown",
   "metadata": {},
   "source": [
    "(по мотивам [семинара](https://github.com/neychev/harbour_dlia2019/blob/master/day02_Simple_RNN/Day_2_Simple_RNN_pytorch.ipynb)\n",
    " [курса \"Deep Learning in Applications\"](https://in.harbour.space/data-science/deep-learning-in-applications-radoslav-neychev-anastasia-ianina/))"
   ]
  },
  {
   "cell_type": "code",
   "execution_count": null,
   "metadata": {},
   "outputs": [],
   "source": [
    "# Если Вы запускаете ноутбук на colab или kaggle,\n",
    "# выполните следующие строчки, чтобы подгрузить библиотеку dlnlputils:\n",
    "\n",
    "# !git clone https://github.com/Samsung-IT-Academy/stepik-dl-nlp.git && pip install -r stepik-dl-nlp/requirements.txt\n",
    "# import sys; sys.path.append('./stepik-dl-nlp')"
   ]
  },
  {
   "cell_type": "code",
   "execution_count": 1,
   "metadata": {
    "ExecuteTime": {
     "end_time": "2019-11-05T18:20:34.854793Z",
     "start_time": "2019-11-05T18:20:34.372865Z"
    }
   },
   "outputs": [],
   "source": [
    "import os\n",
    "\n",
    "import numpy as np\n",
    "import matplotlib.pyplot as plt\n",
    "%matplotlib inline"
   ]
  },
  {
   "cell_type": "markdown",
   "metadata": {},
   "source": [
    "# Данные\n",
    "Датасет содержит ~9k имен, все написаны латиницей."
   ]
  },
  {
   "cell_type": "code",
   "execution_count": 2,
   "metadata": {
    "ExecuteTime": {
     "end_time": "2019-11-05T18:21:03.509714Z",
     "start_time": "2019-11-05T18:21:03.491489Z"
    }
   },
   "outputs": [],
   "source": [
    "# Если Вы запускаете ноутбук на colab или kaggle, добавьте в начало пути ./stepik-dl-nlp\n",
    "names = []\n",
    "with open('datasets/russian_names.txt', 'r', encoding='utf-8') as input_file:\n",
    "    for line in input_file:\n",
    "        names.append(' ' + line.strip())"
   ]
  },
  {
   "cell_type": "code",
   "execution_count": 3,
   "metadata": {
    "ExecuteTime": {
     "end_time": "2019-11-05T18:21:03.946758Z",
     "start_time": "2019-11-05T18:21:03.938432Z"
    }
   },
   "outputs": [
    {
     "data": {
      "text/plain": [
       "[' Ababko', ' Abaev', ' Abagyan', ' Abaidulin', ' Abaidullin']"
      ]
     },
     "execution_count": 3,
     "metadata": {},
     "output_type": "execute_result"
    }
   ],
   "source": [
    "names[:5]"
   ]
  },
  {
   "cell_type": "markdown",
   "metadata": {},
   "source": [
    "Посмотрим на распределение длин имен:"
   ]
  },
  {
   "cell_type": "code",
   "execution_count": 4,
   "metadata": {
    "ExecuteTime": {
     "end_time": "2019-11-05T18:21:05.420060Z",
     "start_time": "2019-11-05T18:21:05.179513Z"
    }
   },
   "outputs": [
    {
     "data": {
      "text/plain": [
       "(array([1.000e+00, 5.300e+01, 1.590e+02, 0.000e+00, 6.110e+02, 1.213e+03,\n",
       "        1.730e+03, 0.000e+00, 1.847e+03, 1.614e+03, 0.000e+00, 1.142e+03,\n",
       "        5.870e+02, 2.700e+02, 0.000e+00, 1.030e+02, 3.800e+01, 0.000e+00,\n",
       "        8.000e+00, 5.000e+00, 2.300e+01, 0.000e+00, 2.000e+00, 1.000e+00,\n",
       "        1.000e+00]),\n",
       " array([ 3.  ,  3.72,  4.44,  5.16,  5.88,  6.6 ,  7.32,  8.04,  8.76,\n",
       "         9.48, 10.2 , 10.92, 11.64, 12.36, 13.08, 13.8 , 14.52, 15.24,\n",
       "        15.96, 16.68, 17.4 , 18.12, 18.84, 19.56, 20.28, 21.  ]),\n",
       " <BarContainer object of 25 artists>)"
      ]
     },
     "execution_count": 4,
     "metadata": {},
     "output_type": "execute_result"
    },
    {
     "data": {
      "image/png": "[encoded data removed]",
      "text/plain": [
       "<Figure size 432x288 with 1 Axes>"
      ]
     },
     "metadata": {
      "needs_background": "light"
     },
     "output_type": "display_data"
    }
   ],
   "source": [
    "plt.title('Name length distribution')\n",
    "plt.hist(list(map(len, names)), bins=25)"
   ]
  },
  {
   "cell_type": "markdown",
   "metadata": {},
   "source": [
    "# Препроцессинг"
   ]
  },
  {
   "cell_type": "code",
   "execution_count": 5,
   "metadata": {
    "ExecuteTime": {
     "end_time": "2019-11-05T18:21:07.335188Z",
     "start_time": "2019-11-05T18:21:07.320148Z"
    }
   },
   "outputs": [
    {
     "name": "stdout",
     "output_type": "stream",
     "text": [
      "num_tokens = 52\n"
     ]
    }
   ],
   "source": [
    "#all unique characters go here\n",
    "tokens = list(set(''.join(names)))\n",
    "\n",
    "num_tokens = len(tokens)\n",
    "print ('num_tokens =', num_tokens)"
   ]
  },
  {
   "cell_type": "markdown",
   "metadata": {},
   "source": [
    "### Символы -> id\n",
    "\n",
    "Создадим словарь < символ > -> < id >"
   ]
  },
  {
   "cell_type": "code",
   "execution_count": 6,
   "metadata": {
    "ExecuteTime": {
     "end_time": "2019-11-05T18:21:07.674548Z",
     "start_time": "2019-11-05T18:21:07.671129Z"
    }
   },
   "outputs": [],
   "source": [
    "token2id = {token: idx for idx, token in enumerate(tokens)}"
   ]
  },
  {
   "cell_type": "code",
   "execution_count": 7,
   "metadata": {
    "ExecuteTime": {
     "end_time": "2019-11-05T18:21:07.838814Z",
     "start_time": "2019-11-05T18:21:07.833611Z"
    }
   },
   "outputs": [
    {
     "name": "stdout",
     "output_type": "stream",
     "text": [
      "Seems alright!\n"
     ]
    }
   ],
   "source": [
    "assert len(tokens) == len(token2id), \"dictionaries must have same size\"\n",
    "\n",
    "for i in range(num_tokens):\n",
    "    assert token2id[tokens[i]] == i, \"token identifier must be it's position in tokens list\"\n",
    "\n",
    "print(\"Seems alright!\")"
   ]
  },
  {
   "cell_type": "code",
   "execution_count": 8,
   "metadata": {
    "ExecuteTime": {
     "end_time": "2019-11-05T18:21:07.988093Z",
     "start_time": "2019-11-05T18:21:07.977722Z"
    }
   },
   "outputs": [],
   "source": [
    "def to_matrix(data, token2id, max_len=None, dtype='int32', batch_first=True):\n",
    "    \"\"\"Casts a list of names into rnn-digestable matrix\"\"\"\n",
    "    \n",
    "    max_len = max_len or max(map(len, data))\n",
    "    data_idx = np.zeros((len(data), max_len), dtype=dtype) + token2id[' ']\n",
    "\n",
    "    for i, item in enumerate(data):\n",
    "        line_idx = [token2id[c] for c in item]\n",
    "        data_idx[i, :len(line_idx)] = line_idx\n",
    "        \n",
    "    if not batch_first: # convert [batch, time] into [time, batch]\n",
    "        data_idx = np.transpose(data_idx)\n",
    "\n",
    "    return data_idx"
   ]
  },
  {
   "cell_type": "code",
   "execution_count": 9,
   "metadata": {
    "ExecuteTime": {
     "end_time": "2019-11-05T18:21:08.136936Z",
     "start_time": "2019-11-05T18:21:08.131609Z"
    }
   },
   "outputs": [
    {
     "name": "stdout",
     "output_type": "stream",
     "text": [
      " Ababko\n",
      " Chihachev\n",
      " Isaikov\n",
      " Nakhamkin\n",
      " Ustenko\n",
      "[[16  2 38 51 38 29 28 16 16 16]\n",
      " [16 39 46 14 46 51 36 46 12  0]\n",
      " [16 40 35 51 14 29 28  0 16 16]\n",
      " [16  1 51 29 46 51 44 29 14 43]\n",
      " [16 20 35  6 12 43 29 28 16 16]]\n"
     ]
    }
   ],
   "source": [
    "#Example: cast 4 names to matrices, pad with zeros\n",
    "print('\\n'.join(names[::2000]))\n",
    "matrix = to_matrix(names[::2000], token2id)\n",
    "print(matrix)"
   ]
  },
  {
   "cell_type": "markdown",
   "metadata": {},
   "source": [
    "# Рекуррентные нейронные сети\n",
    "\n",
    "<img src=\"img/rnn.png\" width=480>"
   ]
  },
  {
   "cell_type": "code",
   "execution_count": 10,
   "metadata": {
    "ExecuteTime": {
     "end_time": "2019-11-05T18:21:10.739438Z",
     "start_time": "2019-11-05T18:21:09.661222Z"
    }
   },
   "outputs": [],
   "source": [
    "import torch, torch.nn as nn\n",
    "import torch.nn.functional as F\n",
    "from torch.autograd import Variable"
   ]
  },
  {
   "cell_type": "code",
   "execution_count": 11,
   "metadata": {},
   "outputs": [],
   "source": [
    "NUM_TOKENS = len(tokens)\n",
    "EMB_SIZE = 16\n",
    "RNN_UNITS = 64"
   ]
  },
  {
   "cell_type": "code",
   "execution_count": 12,
   "metadata": {
    "ExecuteTime": {
     "end_time": "2019-11-05T18:21:10.751862Z",
     "start_time": "2019-11-05T18:21:10.741772Z"
    }
   },
   "outputs": [],
   "source": [
    "class CharRNNCell(nn.Module):\n",
    "    \"\"\"\n",
    "    Implement the scheme above as torch module\n",
    "    \"\"\"\n",
    "    def __init__(self, num_tokens=NUM_TOKENS, embedding_size=EMB_SIZE, rnn_num_units=RNN_UNITS):\n",
    "        super(CharRNNCell, self).__init__()\n",
    "        self.num_units = rnn_num_units\n",
    "        \n",
    "        self.embedding = nn.Embedding(num_tokens, embedding_size)\n",
    "        self.rnn_update = nn.Linear(embedding_size + rnn_num_units, rnn_num_units)\n",
    "        self.rnn_to_logits = nn.Linear(rnn_num_units, num_tokens)\n",
    "        \n",
    "    def forward(self, x, h_prev):\n",
    "        \"\"\"\n",
    "        This method computes h_next(x, h_prev) and log P(x_next | h_next)\n",
    "        We'll call it repeatedly to produce the whole sequence.\n",
    "        \n",
    "        :param x: batch of character ids, variable containing vector of int64\n",
    "        :param h_prev: previous rnn hidden states, variable containing matrix [batch, rnn_num_units] of float32\n",
    "        \"\"\"\n",
    "        # get vector embedding of x\n",
    "        x_emb = self.embedding(x)\n",
    "        \n",
    "        # compute next hidden state using self.rnn_update\n",
    "        x_and_h = torch.cat([x_emb, h_prev], dim=1) #YOUR CODE HERE\n",
    "        h_next = self.rnn_update(x_and_h) #YOUR CODE HERE\n",
    "        \n",
    "        h_next = F.tanh(h_next)\n",
    "        \n",
    "        assert h_next.size() == h_prev.size()\n",
    "        \n",
    "        #compute logits for next character probs\n",
    "        logits = self.rnn_to_logits(h_next)\n",
    "        \n",
    "        return h_next, F.log_softmax(logits, -1)\n",
    "    \n",
    "    def initial_state(self, batch_size):\n",
    "        \"\"\" return rnn state before it processes first input (aka h0) \"\"\"\n",
    "        return torch.zeros(batch_size, self.num_units, requires_grad=True)"
   ]
  },
  {
   "cell_type": "markdown",
   "metadata": {},
   "source": [
    "### Тренировка сети, RNN loop"
   ]
  },
  {
   "cell_type": "code",
   "execution_count": 13,
   "metadata": {
    "ExecuteTime": {
     "end_time": "2019-11-05T18:21:11.521078Z",
     "start_time": "2019-11-05T18:21:11.510175Z"
    }
   },
   "outputs": [],
   "source": [
    "def rnn_loop(rnn, batch_index):\n",
    "    \"\"\"\n",
    "    Computes log P(next_character) for all time-steps in names_ix\n",
    "    :param names_ix: an int32 matrix of shape [batch, time], output of to_matrix(names)\n",
    "    \"\"\"\n",
    "    batch_size, max_length = batch_index.size()\n",
    "    hid_state = rnn.initial_state(batch_size)\n",
    "    logprobs = []\n",
    "   \n",
    "    for x_t in batch_index.transpose(0, 1):\n",
    "        hid_state, logp_next = rnn(x_t, hid_state)  \n",
    "        logprobs.append(logp_next)\n",
    "        \n",
    "    return torch.stack(logprobs, dim=1)"
   ]
  },
  {
   "cell_type": "markdown",
   "metadata": {},
   "source": [
    "### Тренировка сети"
   ]
  },
  {
   "cell_type": "code",
   "execution_count": 14,
   "metadata": {
    "ExecuteTime": {
     "end_time": "2019-11-05T18:21:12.120106Z",
     "start_time": "2019-11-05T18:21:12.109585Z"
    }
   },
   "outputs": [],
   "source": [
    "from IPython.display import clear_output\n",
    "from random import sample\n",
    "\n",
    "char_rnn = CharRNNCell()\n",
    "opt = torch.optim.Adam(char_rnn.parameters())\n",
    "history = []"
   ]
  },
  {
   "cell_type": "code",
   "execution_count": 15,
   "metadata": {
    "ExecuteTime": {
     "end_time": "2019-11-05T18:21:23.521061Z",
     "start_time": "2019-11-05T18:21:12.302892Z"
    }
   },
   "outputs": [
    {
     "data": {
      "image/png": "[encoded data removed]",
      "text/plain": [
       "<Figure size 432x288 with 1 Axes>"
      ]
     },
     "metadata": {
      "needs_background": "light"
     },
     "output_type": "display_data"
    }
   ],
   "source": [
    "MAX_LENGTH = max(map(len, names))\n",
    "\n",
    "char_rnn.train()\n",
    "\n",
    "for i in range(1000):\n",
    "    batch_ix = to_matrix(sample(names, 32), token2id, max_len=MAX_LENGTH)\n",
    "    batch_ix = torch.tensor(batch_ix, dtype=torch.int64)\n",
    "    \n",
    "    logp_seq = rnn_loop(char_rnn, batch_ix)\n",
    "    \n",
    "    # compute loss\n",
    "    predictions_logp = logp_seq[:, :-1]\n",
    "    actual_next_tokens = batch_ix[:, 1:]\n",
    "\n",
    "    loss = -torch.mean(torch.gather(predictions_logp, dim=2, index=actual_next_tokens[:, :, None]))###YOUR CODE\n",
    "    \n",
    "    # train with backprop\n",
    "    loss.backward()\n",
    "    opt.step()\n",
    "    opt.zero_grad()\n",
    "    \n",
    "    # visualizing training process\n",
    "    history.append(loss.data.numpy())\n",
    "    if (i + 1) % 100 == 0:\n",
    "        clear_output(True)\n",
    "        plt.plot(history, label='loss')\n",
    "        plt.legend()\n",
    "        plt.show()\n",
    "\n",
    "assert np.mean(history[:10]) > np.mean(history[-10:]), \"RNN didn't converge.\""
   ]
  },
  {
   "cell_type": "markdown",
   "metadata": {},
   "source": [
    "### RNN: генерация имен"
   ]
  },
  {
   "cell_type": "code",
   "execution_count": 16,
   "metadata": {
    "ExecuteTime": {
     "end_time": "2019-11-05T18:21:23.540765Z",
     "start_time": "2019-11-05T18:21:23.524503Z"
    }
   },
   "outputs": [],
   "source": [
    "def generate_sample(char_rnn, seed_phrase=' ', max_length=MAX_LENGTH, temperature=1.0):\n",
    "    '''\n",
    "    The function generates text given a phrase of length at least SEQ_LENGTH.\n",
    "    :param seed_phrase: prefix characters. The RNN is asked to continue the phrase\n",
    "    :param max_length: maximum output length, including seed_phrase\n",
    "    :param temperature: coefficient for sampling.  higher temperature produces more chaotic outputs,\n",
    "                        smaller temperature converges to the single most likely output\n",
    "    '''\n",
    "    char_rnn.eval()\n",
    "    \n",
    "    with torch.no_grad():\n",
    "        x_sequence = [token2id[token] for token in seed_phrase]\n",
    "        x_sequence = torch.tensor([x_sequence], dtype=torch.int64)\n",
    "        hid_state = char_rnn.initial_state(batch_size=1)\n",
    "\n",
    "        #feed the seed phrase, if any\n",
    "        for i in range(len(seed_phrase) - 1):\n",
    "            hid_state, _ = char_rnn(x_sequence[:, i], hid_state)\n",
    "\n",
    "        #start generating\n",
    "        for _ in range(max_length - len(seed_phrase)):\n",
    "            hid_state, logp_next = char_rnn(x_sequence[:, -1], hid_state)\n",
    "            p_next = F.softmax(logp_next / temperature, dim=-1).data.numpy()[0]\n",
    "\n",
    "            # sample next token and push it back into x_sequence\n",
    "            next_ix = np.random.choice(len(tokens), p=p_next)\n",
    "            next_ix = torch.tensor([[next_ix]], dtype=torch.int64)\n",
    "            x_sequence = torch.cat([x_sequence, next_ix], dim=1)\n",
    "        \n",
    "    return ''.join([tokens[ix] for ix in x_sequence.data.numpy()[0]])"
   ]
  },
  {
   "cell_type": "code",
   "execution_count": 17,
   "metadata": {
    "ExecuteTime": {
     "end_time": "2019-11-05T18:21:23.625562Z",
     "start_time": "2019-11-05T18:21:23.544968Z"
    }
   },
   "outputs": [
    {
     "name": "stdout",
     "output_type": "stream",
     "text": [
      "Bakhehev\n",
      "Vasssky\n",
      "Kalin\n",
      "Zharov\n",
      "Eserer\n",
      "Balin\n",
      "Arolarov\n",
      "Mudelev\n",
      "Minkin\n",
      "Bakhov\n"
     ]
    }
   ],
   "source": [
    "for _ in range(10):\n",
    "    print(generate_sample(char_rnn, temperature=0.5).strip())"
   ]
  },
  {
   "cell_type": "code",
   "execution_count": 18,
   "metadata": {
    "ExecuteTime": {
     "end_time": "2019-11-05T18:21:23.702249Z",
     "start_time": "2019-11-05T18:21:23.629226Z"
    }
   },
   "outputs": [
    {
     "name": "stdout",
     "output_type": "stream",
     "text": [
      " Efshev              \n",
      " Efeban              \n",
      " Efrstkamov          \n",
      " Efridov             \n",
      " Effatev             \n",
      " Efdarov             \n",
      " Efjhchaky           \n",
      " Efddshroff          \n",
      " Efylssitov          \n",
      " Efuskichik          \n"
     ]
    }
   ],
   "source": [
    "for _ in range(10):\n",
    "    print(generate_sample(char_rnn, seed_phrase=' Ef'))"
   ]
  },
  {
   "cell_type": "markdown",
   "metadata": {
    "collapsed": true
   },
   "source": [
    "### Более простое решение\n",
    "\n",
    "* `nn.RNNCell(emb_size, rnn_num_units)` - шаг RNN. Алгоритм: concat-linear-tanh\n",
    "* `nn.RNN(emb_size, rnn_num_units` - весь rnn_loop.\n",
    "\n",
    "Кроме того, в PyTorch есть `nn.LSTMCell`, `nn.LSTM`, `nn.GRUCell`, `nn.GRU`, etc. etc.\n",
    "\n",
    "Перепишем наш пример с генерацией имен с помощью средств PyTorch."
   ]
  },
  {
   "cell_type": "code",
   "execution_count": 21,
   "metadata": {
    "ExecuteTime": {
     "end_time": "2019-11-05T18:21:23.713285Z",
     "start_time": "2019-11-05T18:21:23.704755Z"
    }
   },
   "outputs": [],
   "source": [
    "class CharRNNLoop(nn.Module):\n",
    "    def __init__(self, num_tokens=NUM_TOKENS, emb_size=16, rnn_num_units=64):\n",
    "        super(CharRNNLoop, self).__init__()\n",
    "        self.emb = nn.Embedding(num_tokens, emb_size)\n",
    "        self.rnn = nn.RNN(emb_size, rnn_num_units, batch_first=True)\n",
    "        self.hid_to_logits = nn.Linear(rnn_num_units, num_tokens)\n",
    "        \n",
    "    def forward(self, x):\n",
    "        x_emb = self.emb(x)\n",
    "        output, _ = self.rnn(x_emb)\n",
    "        next_logits = self.hid_to_logits(output)\n",
    "        next_logp = F.log_softmax(next_logits, dim=-1)\n",
    "        return next_logp\n",
    "    \n",
    "model = CharRNNLoop()\n",
    "opt = torch.optim.Adam(model.parameters())\n",
    "history = []"
   ]
  },
  {
   "cell_type": "code",
   "execution_count": 22,
   "metadata": {},
   "outputs": [
    {
     "data": {
      "image/png": "[encoded data removed]",
      "text/plain": [
       "<Figure size 432x288 with 1 Axes>"
      ]
     },
     "metadata": {
      "needs_background": "light"
     },
     "output_type": "display_data"
    }
   ],
   "source": [
    "MAX_LENGTH = max(map(len, names))\n",
    "BATCH_SIZE = 32\n",
    "EPOCH_NUM = 1000\n",
    "\n",
    "model.train()\n",
    "\n",
    "for epoch in range(EPOCH_NUM):\n",
    "    batch_ix = to_matrix(sample(names, BATCH_SIZE), token2id, max_len=MAX_LENGTH)\n",
    "    batch_ix = torch.tensor(batch_ix, dtype=torch.int64)\n",
    "    \n",
    "    # compute loss\n",
    "    logp_seq = model(batch_ix)\n",
    "    predictions_logp = logp_seq[:, :-1]\n",
    "    actual_next_tokens = batch_ix[:, 1:]\n",
    "    loss = F.nll_loss(predictions_logp.contiguous().view(-1, NUM_TOKENS),\n",
    "                     actual_next_tokens.contiguous().view(-1))\n",
    "    \n",
    "    # train with backprop\n",
    "    loss.backward()\n",
    "    opt.step()\n",
    "    opt.zero_grad()\n",
    "    \n",
    "    # visualizing training process\n",
    "    history.append(loss.data.numpy())\n",
    "    if (epoch + 1) % 100 == 0:\n",
    "        clear_output(True)\n",
    "        plt.plot(history, label='loss')\n",
    "        plt.legend()\n",
    "        plt.show()\n",
    "\n",
    "assert np.mean(history[:10]) > np.mean(history[-10:]), \"RNN didn't converge.\""
   ]
  },
  {
   "cell_type": "code",
   "execution_count": 23,
   "metadata": {},
   "outputs": [],
   "source": [
    "def generate_sample(rnn_model, seed_phrase=' ', max_length=MAX_LENGTH, temperature=1.0):\n",
    "    rnn_model.eval()\n",
    "    \n",
    "    with torch.no_grad():\n",
    "        x_sequence = [token2id[token] for token in seed_phrase]\n",
    "        x_sequence = torch.tensor([x_sequence], dtype=torch.int64)\n",
    "        \n",
    "        #start generating\n",
    "        for _ in range(max_length - len(seed_phrase)):\n",
    "            x_sequence = torch.unsqueeze(x_sequence, 0)\n",
    "            logp_next = rnn_model(x_sequence[:, -1])\n",
    "            p_next = F.softmax(logp_next / temperature, dim=-1).data.numpy()[0][-1]\n",
    "\n",
    "            # sample next token and push it back into x_sequence\n",
    "            next_ix = np.random.choice(len(tokens), p=p_next)\n",
    "            next_ix = torch.tensor([[next_ix]], dtype=torch.int64)\n",
    "            x_sequence = torch.squeeze(x_sequence, 0)\n",
    "            x_sequence = torch.cat([x_sequence, next_ix], dim=1)\n",
    "        \n",
    "    return ''.join([tokens[ix] for ix in x_sequence.data.numpy()[0]])"
   ]
  },
  {
   "cell_type": "code",
   "execution_count": 24,
   "metadata": {
    "ExecuteTime": {
     "end_time": "2019-11-05T18:21:31.526436Z",
     "start_time": "2019-11-05T18:21:31.469965Z"
    }
   },
   "outputs": [
    {
     "name": "stdout",
     "output_type": "stream",
     "text": [
      "Dalin\n",
      "Dakhatov\n",
      "Movenit\n",
      "Bakhan\n",
      "Malyanin\n",
      "Miev\n",
      "Mozhenko\n",
      "Jilinov\n",
      "Yaerdov\n",
      "Barov\n"
     ]
    }
   ],
   "source": [
    "for _ in range(10):\n",
    "    print(generate_sample(model, temperature=0.5).strip())"
   ]
  },
  {
   "cell_type": "markdown",
   "metadata": {},
   "source": [
    "### Генерация цитат: BPE-токенизация + LSTM"
   ]
  },
  {
   "cell_type": "code",
   "execution_count": 1,
   "metadata": {},
   "outputs": [],
   "source": [
    "import os\n",
    "import re\n",
    "from random import sample, shuffle\n",
    "\n",
    "from tqdm.notebook import tqdm\n",
    "import numpy as np\n",
    "\n",
    "import torch\n",
    "from torch import nn\n",
    "import torch.nn.functional as F\n",
    "from torch.optim import Adam\n",
    "from torch.utils.data import TensorDataset, DataLoader\n",
    "\n",
    "from transformers import BertTokenizer"
   ]
  },
  {
   "cell_type": "code",
   "execution_count": 2,
   "metadata": {},
   "outputs": [],
   "source": [
    "class QuoteDataset:\n",
    "    def __init__(self, args=None,\n",
    "                 pretrained_model='bert-base-cased',\n",
    "                 file_path='datasets/author_quotes.txt',\n",
    "                 val_size=0.2,\n",
    "                 batch_size=32):\n",
    "        if args is not None:\n",
    "            self.args = vars(args)\n",
    "        if not args:\n",
    "            self.args = dict(pretrained_model=pretrained_model, file_path=file_path,\n",
    "                             val_size=val_size, batch_size=batch_size)\n",
    "            \n",
    "        # Forming the vocabulary\n",
    "        self.tokenizer = BertTokenizer.from_pretrained(self.args['pretrained_model'])\n",
    "        self.vocab, tokenized_data = self.preprocess_data()\n",
    "        self.vocab_size = len(self.vocab)\n",
    "        self.max_seq_len = max(map(len, tokenized_data))\n",
    "        self.token2id = {token: _id for _id, token in enumerate(self.vocab)}\n",
    "        self.id2token = {_id: token for _id, token in enumerate(self.vocab)}\n",
    "        \n",
    "        # Forming the train/val data loaders\n",
    "        indexed_data = self.to_matrix(tokenized_data)\n",
    "        np.random.shuffle(indexed_data)\n",
    "        train_val_bound = int(indexed_data.shape[0] * self.args['val_size'])\n",
    "        kwargs = self.make_kwargs()\n",
    "        train_set = indexed_data[train_val_bound:]\n",
    "        train = self.to_input_target(train_set)\n",
    "        self.train_loader = DataLoader(train, batch_size=self.args['batch_size'], shuffle=True, **kwargs)\n",
    "        val_set = indexed_data[:train_val_bound]\n",
    "        val = self.to_input_target(val_set)\n",
    "        self.val_loader = DataLoader(val, batch_size=self.args['batch_size'], shuffle=True, **kwargs)\n",
    "        \n",
    "        \n",
    "    @staticmethod\n",
    "    def clean_text(_text):\n",
    "        _text = re.sub(\"\\n|(</?[^>]*>)\", \" \", _text)\n",
    "        _text = re.sub(r\"\\s+\", \" \", _text)\n",
    "        return _text.strip()\n",
    "    \n",
    "    def preprocess_data(self):\n",
    "        token_set = set()\n",
    "        tokenized_quotes = []\n",
    "        \n",
    "        with open(self.args['file_path'], 'r', encoding='utf-8') as infile:\n",
    "            for line in infile:\n",
    "                line = self.clean_text(line)\n",
    "                tokenized_quote = self.tokenizer.tokenize(line)\n",
    "                tokenized_quote = ['[CLS]'] + tokenized_quote + ['[SEP]']\n",
    "                tokenized_quotes.append(tokenized_quote)\n",
    "                token_set.update(set(tokenized_quote))\n",
    "                \n",
    "        num_samples = len(tokenized_quotes) // self.args['batch_size'] * self.args['batch_size']\n",
    "        shuffle(tokenized_quotes)\n",
    "        return ['[PAD]'] + list(token_set), tokenized_quotes[:num_samples]\n",
    "    \n",
    "    def to_matrix(self, data, _dtype='int32', batch_first=True):\n",
    "        indexed_data = np.zeros((len(data), self.max_seq_len), dtype=_dtype)\n",
    "        \n",
    "        for i, item in enumerate(data):\n",
    "            token_ids = [self.token2id[token] for token in item]\n",
    "            indexed_data[i, :len(token_ids)] = token_ids\n",
    "            \n",
    "        if not batch_first:\n",
    "            indexed_data = np.transpose(indexed_data)\n",
    "            \n",
    "        return indexed_data\n",
    "    \n",
    "    @staticmethod\n",
    "    def to_input_target(init_data):\n",
    "        _input = torch.tensor(init_data, dtype=torch.int64)\n",
    "        _target = _input[:, 1:]\n",
    "        return TensorDataset(_input, _target)\n",
    "    \n",
    "    @staticmethod\n",
    "    def make_kwargs():\n",
    "        use_cuda = torch.cuda.is_available()\n",
    "        device = torch.device(\"cuda\" if use_cuda else \"cpu\")\n",
    "        kwargs = {'num_workers': 1, 'pin_memory': True} if use_cuda else {}\n",
    "        return kwargs"
   ]
  },
  {
   "cell_type": "code",
   "execution_count": 3,
   "metadata": {},
   "outputs": [],
   "source": [
    "class LSTMGen(nn.Module):\n",
    "    def __init__(self, vocab_size, emb_size=128, lstm_size=128, layers=3):\n",
    "        super(LSTMGen, self).__init__()\n",
    "        self.vocab_size = vocab_size\n",
    "        self.emb_size = emb_size\n",
    "        self.lstm_size = lstm_size\n",
    "        self.num_layers = layers\n",
    "        \n",
    "        self.embedding = nn.Embedding(num_embeddings=vocab_size,\n",
    "                                embedding_dim=emb_size)\n",
    "        self.lstm = nn.LSTM(input_size=emb_size, hidden_size=lstm_size,\n",
    "                            num_layers=layers, batch_first=True, dropout=0.2)\n",
    "        self.logits = nn.Linear(in_features=lstm_size,\n",
    "                                out_features=vocab_size)\n",
    "        \n",
    "    def forward(self, _input, prev_state):\n",
    "        input_emb = self.embedding(_input)\n",
    "        output, h_state = self.lstm(input_emb, prev_state)\n",
    "        logits = self.logits(output)\n",
    "        p_logits = F.log_softmax(logits, dim=-1)\n",
    "        return p_logits, h_state\n",
    "    \n",
    "    def init_state(self, batch_size):\n",
    "        return (torch.zeros(self.num_layers, batch_size, self.lstm_size, requires_grad=True),\n",
    "                torch.zeros(self.num_layers, batch_size, self.lstm_size, requires_grad=True))"
   ]
  },
  {
   "cell_type": "code",
   "execution_count": 4,
   "metadata": {},
   "outputs": [],
   "source": [
    "class QuoteGenerator:\n",
    "    def __init__(self):\n",
    "        self.dataset = QuoteDataset()\n",
    "        self.generator = LSTMGen(self.dataset.vocab_size)\n",
    "        self.optimizer = Adam(self.generator.parameters(), lr=0.001)\n",
    "        self.device = torch.device(\"cuda\" if torch.cuda.is_available() else \"cpu\")\n",
    "        \n",
    "        print(\"Model configuration parameters\")\n",
    "        print(\"~~~~~~~~~~~~~~~~~~~~~~~~~~~~~~\")\n",
    "        print(\"Vocabulary size:\", self.generator.vocab_size)\n",
    "        print(\"Embedding size:\", self.generator.emb_size)\n",
    "        print(\"LSTM hidden size:\", self.generator.lstm_size)\n",
    "        print(\"Number of recurrent layers:\", self.generator.num_layers)\n",
    "        print(\"Used device:\", self.device.type)\n",
    "        print(\"~~~~~~~~~~~~~~~~~~~~~~~~~~~~~~\")\n",
    "        \n",
    "    def train(self, epoch_num, log_interval=10):\n",
    "        self.generator.to(self.device)\n",
    "        self.generator.train()\n",
    "        \n",
    "        for epoch in tqdm(range(epoch_num), total=epoch_num):\n",
    "            epoch_loss = []\n",
    "            h_state, c_state = self.generator.init_state(self.dataset.args['batch_size'])\n",
    "            h_state, c_state = h_state.to(self.device), c_state.to(self.device)\n",
    "            \n",
    "            for batch, (_input, _target) in enumerate(self.dataset.train_loader):\n",
    "                _input, _target = _input.to(self.device), _target.to(self.device)\n",
    "                \n",
    "                predicted, (h_state, c_state) = self.generator(_input, (h_state, c_state))\n",
    "                predicted = predicted[:, :-1]\n",
    "                loss = F.nll_loss(predicted.contiguous().view(-1, self.dataset.vocab_size),\n",
    "                                  _target.contiguous().view(-1))\n",
    "                \n",
    "                h_state = h_state.detach()\n",
    "                c_state = c_state.detach()\n",
    "                \n",
    "                loss.backward()\n",
    "                self.optimizer.step()\n",
    "                self.optimizer.zero_grad()\n",
    "                \n",
    "                epoch_loss.append(loss.cpu().data.numpy())\n",
    "                \n",
    "            if (epoch + 1) % log_interval == 0 or epoch == 0:\n",
    "                mean_epoch_loss = sum(epoch_loss) / len(epoch_loss)\n",
    "                print(\"Epoch #{epoch_num}\\nMean epoch loss: {mean_loss}\".format(epoch_num=epoch + 1,\n",
    "                                                                                mean_loss=mean_epoch_loss))\n",
    "                \n",
    "    def generate_sample(self, seed_phrase='', temperature=1.0):\n",
    "        self.generator.to(torch.device(\"cpu\"))\n",
    "        self.generator.eval()\n",
    "        \n",
    "        seed_words = ['[CLS]'] + self.dataset.tokenizer.tokenize(seed_phrase)\n",
    "        \n",
    "        with torch.no_grad():\n",
    "            x_sequence = [self.dataset.token2id[token] for token in seed_words]\n",
    "            x_sequence = torch.tensor([x_sequence], dtype=torch.int64)\n",
    "            h_state, c_state = self.generator.init_state(batch_size=1)\n",
    "            \n",
    "            # feeding the seed tokens\n",
    "            for i in range(1, len(seed_words) - 1):\n",
    "                _, (h_state, c_state) = self.generator(x_sequence[:, :i], (h_state, c_state))\n",
    "\n",
    "            #start generating\n",
    "            for _ in range(self.dataset.max_seq_len - len(seed_words)):\n",
    "                logp_next, (h_state, c_state) = self.generator(x_sequence, (h_state, c_state))\n",
    "                p_next = F.softmax(logp_next / temperature, dim=-1).data.numpy()[0][-1]\n",
    "\n",
    "                # sample next token and push it back into x_sequence\n",
    "                next_ix = np.argmax(p_next)\n",
    "                next_ix = torch.tensor([[next_ix]], dtype=torch.int64)\n",
    "                x_sequence = torch.cat([x_sequence, next_ix], dim=1)\n",
    "                \n",
    "        tokens = [self.dataset.id2token[_id] for _id in x_sequence.data.numpy()[0]]\n",
    "        return tokens\n",
    "    \n",
    "    @staticmethod\n",
    "    def pretty_output(raw_tokens):\n",
    "        _text = ' '.join(raw_tokens)\n",
    "        _text = re.sub(r'\\[.+?\\]', '', _text).strip()\n",
    "        _text = re.sub(r\"\\s'\\s\", \"'\", _text)\n",
    "        _text = re.sub(r\"\\s\\.\", \".\", _text)\n",
    "        _text = re.sub(r\"\\s\\?\", \"?\", _text)\n",
    "\n",
    "        punkts = [',', '!', ':', ';']\n",
    "        for symb in punkts:\n",
    "            _text = re.sub('\\s{symbol}'.format(symbol=symb), symb, _text)\n",
    "\n",
    "        return _text.strip()"
   ]
  },
  {
   "cell_type": "code",
   "execution_count": 5,
   "metadata": {
    "scrolled": true
   },
   "outputs": [
    {
     "name": "stdout",
     "output_type": "stream",
     "text": [
      "Model configuration parameters\n",
      "~~~~~~~~~~~~~~~~~~~~~~~~~~~~~~\n",
      "Vocabulary size: 19613\n",
      "Embedding size: 128\n",
      "LSTM hidden size: 128\n",
      "Number of recurrent layers: 3\n",
      "Used device: cuda\n",
      "~~~~~~~~~~~~~~~~~~~~~~~~~~~~~~\n"
     ]
    },
    {
     "data": {
      "application/vnd.jupyter.widget-view+json": {
       "model_id": "03c9d87a3eb64880a55430330dc37701",
       "version_major": 2,
       "version_minor": 0
      },
      "text/plain": [
       "  0%|          | 0/1000 [00:00<?, ?it/s]"
      ]
     },
     "metadata": {},
     "output_type": "display_data"
    },
    {
     "name": "stdout",
     "output_type": "stream",
     "text": [
      "Epoch #1\n",
      "Mean epoch loss: 2.2799958391527158\n",
      "Epoch #50\n",
      "Mean epoch loss: 1.069851469940844\n",
      "Epoch #100\n",
      "Mean epoch loss: 0.9786607588814423\n",
      "Epoch #150\n",
      "Mean epoch loss: 0.9350937220506963\n",
      "Epoch #200\n",
      "Mean epoch loss: 0.9100279958374733\n",
      "Epoch #250\n",
      "Mean epoch loss: 0.892855482027594\n",
      "Epoch #300\n",
      "Mean epoch loss: 0.8810398325455927\n",
      "Epoch #350\n",
      "Mean epoch loss: 0.8725432301253344\n",
      "Epoch #400\n",
      "Mean epoch loss: 0.8651479938257057\n",
      "Epoch #450\n",
      "Mean epoch loss: 0.8608487358531066\n",
      "Epoch #500\n",
      "Mean epoch loss: 0.8561702802513553\n",
      "Epoch #550\n",
      "Mean epoch loss: 0.8516953847313349\n",
      "Epoch #600\n",
      "Mean epoch loss: 0.8511008634108358\n",
      "Epoch #650\n",
      "Mean epoch loss: 0.8477188140417622\n",
      "Epoch #700\n",
      "Mean epoch loss: 0.8446618382514051\n",
      "Epoch #750\n",
      "Mean epoch loss: 0.8455440800274368\n",
      "Epoch #800\n",
      "Mean epoch loss: 0.842500772953561\n",
      "Epoch #850\n",
      "Mean epoch loss: 0.8408451289993472\n",
      "Epoch #900\n",
      "Mean epoch loss: 0.8407604087111169\n",
      "Epoch #950\n",
      "Mean epoch loss: 0.8414061067510495\n",
      "Epoch #1000\n",
      "Mean epoch loss: 0.8394232716708057\n"
     ]
    }
   ],
   "source": [
    "generator = QuoteGenerator()\n",
    "generator.train(1000, log_interval=50)"
   ]
  },
  {
   "cell_type": "code",
   "execution_count": 6,
   "metadata": {},
   "outputs": [
    {
     "name": "stdout",
     "output_type": "stream",
     "text": [
      "The world of the financial society.\n"
     ]
    }
   ],
   "source": [
    "raw_sample = generator.generate_sample()\n",
    "sample = generator.pretty_output(raw_sample)\n",
    "print(sample)"
   ]
  },
  {
   "cell_type": "code",
   "execution_count": 7,
   "metadata": {},
   "outputs": [
    {
     "name": "stdout",
     "output_type": "stream",
     "text": [
      "If you're not going to be 51, you're not going to be a celebrity.\n"
     ]
    }
   ],
   "source": [
    "raw_sample = generator.generate_sample(seed_phrase=\"If you're\")\n",
    "sample = generator.pretty_output(raw_sample)\n",
    "print(sample)"
   ]
  },
  {
   "cell_type": "code",
   "execution_count": null,
   "metadata": {},
   "outputs": [],
   "source": []
  }
 ],
 "metadata": {
  "kernelspec": {
   "display_name": "samsung_nlp",
   "language": "python",
   "name": "samsung_nlp"
  },
  "language_info": {
   "codemirror_mode": {
    "name": "ipython",
    "version": 3
   },
   "file_extension": ".py",
   "mimetype": "text/x-python",
   "name": "python",
   "nbconvert_exporter": "python",
   "pygments_lexer": "ipython3",
   "version": "3.8.5"
  },
  "latex_envs": {
   "LaTeX_envs_menu_present": true,
   "autoclose": false,
   "autocomplete": true,
   "bibliofile": "biblio.bib",
   "cite_by": "apalike",
   "current_citInitial": 1,
   "eqLabelWithNumbers": true,
   "eqNumInitial": 1,
   "hotkeys": {
    "equation": "Ctrl-E",
    "itemize": "Ctrl-I"
   },
   "labels_anchors": false,
   "latex_user_defs": false,
   "report_style_numbering": false,
   "user_envs_cfg": false
  },
  "toc": {
   "base_numbering": 1,
   "nav_menu": {},
   "number_sections": true,
   "sideBar": true,
   "skip_h1_title": false,
   "title_cell": "Table of Contents",
   "title_sidebar": "Contents",
   "toc_cell": false,
   "toc_position": {},
   "toc_section_display": true,
   "toc_window_display": false
  }
 },
 "nbformat": 4,
 "nbformat_minor": 1
}
